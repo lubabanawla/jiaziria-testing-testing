{
 "cells": [
  {
   "cell_type": "code",
   "execution_count": 12,
   "metadata": {},
   "outputs": [
    {
     "name": "stdout",
     "output_type": "stream",
     "text": [
      "Color(0.8549, 1.0, 0.7451)\n"
     ]
    }
   ],
   "source": [
    "hexColor = \"#DAFFBE\"\n",
    "\n",
    "# convert hex code to a Godot Color object\n",
    "def hex_to_godot_color(hex_code):\n",
    "    # Remove the '#' character if present\n",
    "    hex_code = hex_code.lstrip('#')\n",
    "\n",
    "    # Convert the hex code to RGB values\n",
    "    r = round(int(hex_code[0:2], 16) / 255, 4)\n",
    "    g = round(int(hex_code[2:4], 16) / 255, 4)\n",
    "    b = round(int(hex_code[4:6], 16) / 255, 4)\n",
    "\n",
    "    # Return the Godot Color object\n",
    "    return f\"Color({r}, {g}, {b})\"\n",
    "\n",
    "print(hex_to_godot_color(hexColor))"
   ]
  }
 ],
 "metadata": {
  "kernelspec": {
   "display_name": "Python 3",
   "language": "python",
   "name": "python3"
  },
  "language_info": {
   "codemirror_mode": {
    "name": "ipython",
    "version": 3
   },
   "file_extension": ".py",
   "mimetype": "text/x-python",
   "name": "python",
   "nbconvert_exporter": "python",
   "pygments_lexer": "ipython3",
   "version": "3.12.7"
  }
 },
 "nbformat": 4,
 "nbformat_minor": 2
}
